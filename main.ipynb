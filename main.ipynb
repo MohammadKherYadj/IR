{
 "cells": [
  {
   "cell_type": "code",
   "execution_count": 10,
   "metadata": {},
   "outputs": [
    {
     "name": "stderr",
     "output_type": "stream",
     "text": [
      "[nltk_data] Error loading punkt: <urlopen error [Errno 11001]\n",
      "[nltk_data]     getaddrinfo failed>\n",
      "[nltk_data] Error loading punkt_tab: <urlopen error [Errno 11001]\n",
      "[nltk_data]     getaddrinfo failed>\n",
      "[nltk_data] Error loading wordnet: <urlopen error [Errno 11001]\n",
      "[nltk_data]     getaddrinfo failed>\n",
      "[nltk_data] Error loading stopwords: <urlopen error [Errno 11001]\n",
      "[nltk_data]     getaddrinfo failed>\n"
     ]
    },
    {
     "data": {
      "text/plain": [
       "False"
      ]
     },
     "execution_count": 10,
     "metadata": {},
     "output_type": "execute_result"
    }
   ],
   "source": [
    "import pandas as pd\n",
    "import re\n",
    "import nltk\n",
    "import spacy\n",
    "from nltk.tokenize import word_tokenize\n",
    "# from nltk.stem import WordNetLemmatizer\n",
    "import qalsadi.lemmatizer as lemmatizer\n",
    "from nltk.stem import PorterStemmer\n",
    "from nltk.corpus import stopwords\n",
    "from nltk.corpus import wordnet\n",
    "\n",
    "# import pyterrier as pt\n",
    "\n",
    "# if not pt.started():\n",
    "#     pt.init()\n",
    "\n",
    "nltk.download(\"punkt\")\n",
    "nltk.download(\"punkt_tab\")\n",
    "nltk.download(\"wordnet\")\n",
    "nltk.download(\"stopwords\")"
   ]
  },
  {
   "cell_type": "code",
   "execution_count": null,
   "metadata": {},
   "outputs": [],
   "source": [
    "class Preprocessing_EN:\n",
    "  @staticmethod\n",
    "  def process(sentance):\n",
    "    sentance = Preprocessing_EN.remove_punctuation(sentance)\n",
    "    sentance = Preprocessing_EN.tokenizer(sentance)\n",
    "    sentance = Preprocessing_EN.normalizer(sentance)\n",
    "    sentance = Preprocessing_EN.remove_stopwords(sentance)\n",
    "    sentance = Preprocessing_EN.remove_deplicate(sentance)\n",
    "    sentance = Preprocessing_EN.stemmer(sentance)\n",
    "    return sentance\n",
    "\n",
    "  @staticmethod\n",
    "  def tokenizer(sentance):\n",
    "    words = word_tokenize(sentance)\n",
    "    return words\n",
    "\n",
    "  @staticmethod\n",
    "  def normalizer(sentance):\n",
    "    return [word.lower() for word in sentance]\n",
    "\n",
    "  @staticmethod\n",
    "  def remove_stopwords(sentance):\n",
    "    stop_words = set(stopwords.words('english'))\n",
    "    sentance = [word for word in sentance if word not in stop_words]\n",
    "    return sentance\n",
    "  \n",
    "  \n",
    "  @staticmethod\n",
    "  def lemmatizer2(sentance):\n",
    "    lemmatize = lemmatizer.Lemmatizer()\n",
    "    sentance = [lemmatize.lemmatize(word) for word in sentance]\n",
    "    return sentance\n",
    "  \n",
    "  @staticmethod\n",
    "  def stemmer(sentance):\n",
    "    stemmer = PorterStemmer()\n",
    "    sentance = [stemmer.stem(word) for word in sentance]\n",
    "    return sentance\n",
    "\n",
    "  @staticmethod\n",
    "  def remove_punctuation(sentance):\n",
    "    return re.sub(r'[^A-Za-z0-9\\s]',' ',sentance)\n",
    "\n",
    "  @staticmethod\n",
    "  def remove_deplicate(sentance):\n",
    "    return list(set(sentance))"
   ]
  },
  {
   "cell_type": "code",
   "execution_count": 15,
   "metadata": {},
   "outputs": [
    {
     "data": {
      "text/plain": [
       "['happi', 'could', 'peopl', 'footbal', 'swim', 'life', 'love', 'pali']"
      ]
     },
     "execution_count": 15,
     "metadata": {},
     "output_type": "execute_result"
    }
   ],
   "source": [
    "text = \"This is my life and I am Happy and i love Swimming i love happy people could i paly football or i can't\"\n",
    "Preprocessing_EN.process(text)"
   ]
  },
  {
   "cell_type": "code",
   "execution_count": 16,
   "metadata": {},
   "outputs": [],
   "source": [
    "from sklearn.feature_extraction.text import TfidfVectorizer\n",
    "from sklearn.metrics.pairwise import cosine_similarity\n",
    "import numpy as np "
   ]
  },
  {
   "cell_type": "code",
   "execution_count": null,
   "metadata": {},
   "outputs": [],
   "source": [
    "assert \"id\" in lawyers.columns and "
   ]
  }
 ],
 "metadata": {
  "kernelspec": {
   "display_name": "IR_env",
   "language": "python",
   "name": "python3"
  },
  "language_info": {
   "codemirror_mode": {
    "name": "ipython",
    "version": 3
   },
   "file_extension": ".py",
   "mimetype": "text/x-python",
   "name": "python",
   "nbconvert_exporter": "python",
   "pygments_lexer": "ipython3",
   "version": "3.12.5"
  }
 },
 "nbformat": 4,
 "nbformat_minor": 2
}
